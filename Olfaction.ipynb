{
  "nbformat": 4,
  "nbformat_minor": 0,
  "metadata": {
    "colab": {
      "name": "Olfaction.ipynb",
      "version": "0.3.2",
      "provenance": [],
      "include_colab_link": true
    },
    "kernelspec": {
      "display_name": "Python 3",
      "language": "python",
      "name": "python3"
    }
  },
  "cells": [
    {
      "cell_type": "markdown",
      "metadata": {
        "id": "view-in-github",
        "colab_type": "text"
      },
      "source": [
        "<a href=\"https://colab.research.google.com/github/BioWill25/NeuroscienceDAslides/blob/master/Olfaction.ipynb\" target=\"_parent\"><img src=\"https://colab.research.google.com/assets/colab-badge.svg\" alt=\"Open In Colab\"/></a>"
      ]
    },
    {
      "metadata": {
        "id": "0Nq9X0iRN6Y3",
        "colab_type": "text"
      },
      "cell_type": "markdown",
      "source": [
        "# Olfaction (Smell) #"
      ]
    },
    {
      "metadata": {
        "id": "iyFKa39zN6Y6",
        "colab_type": "text"
      },
      "cell_type": "markdown",
      "source": [
        "![olfactory-system](https://upload.wikimedia.org/wikipedia/commons/thumb/3/34/Head_Olfactory_Nerve_Labeled.png/500px-Head_Olfactory_Nerve_Labeled.png)"
      ]
    },
    {
      "metadata": {
        "id": "uElDgXnKN6Y9",
        "colab_type": "text"
      },
      "cell_type": "markdown",
      "source": [
        "## Orthonasal vs Retronasal"
      ]
    },
    {
      "metadata": {
        "id": "SfOVqucYN6Y_",
        "colab_type": "text"
      },
      "cell_type": "markdown",
      "source": [
        "![ortho-retro](https://www.thoughtco.com/thmb/YCumJ3PQdYxshDw0mzCIcilCqwc=/768x0/filters:no_upscale():max_bytes(150000):strip_icc():format(webp)/olfaction-57966b3f3df78ceb863e0683.jpg)"
      ]
    },
    {
      "metadata": {
        "id": "X4W1KXa_N6ZC",
        "colab_type": "text"
      },
      "cell_type": "markdown",
      "source": [
        "## The olfactory epithelium as a chromatograph"
      ]
    },
    {
      "metadata": {
        "id": "c_U13QlbN6ZF",
        "colab_type": "text"
      },
      "cell_type": "markdown",
      "source": [
        "![chromatograph](https://www.sigmaaldrich.com/content/dam/sigma-aldrich/product2/137/g004158a.eps/_jcr_content/renditions/g004158a-large.jpg)"
      ]
    },
    {
      "metadata": {
        "id": "W661U7rLN6ZH",
        "colab_type": "text"
      },
      "cell_type": "markdown",
      "source": [
        "## Olfactory transduction is mediated by receptors"
      ]
    },
    {
      "metadata": {
        "id": "SCBUg15UN6ZI",
        "colab_type": "text"
      },
      "cell_type": "markdown",
      "source": [
        "![olfactory-receptors](https://github.com/rgerkin/neuro-data-analysis-course/blob/master/images/odor-receptors.jpg?raw=1)"
      ]
    },
    {
      "metadata": {
        "id": "CtqfXslFN6ZK",
        "colab_type": "text"
      },
      "cell_type": "markdown",
      "source": [
        "## The olfactory receptors are spatially and genetically organized into classes"
      ]
    },
    {
      "metadata": {
        "id": "VkukPg9VN6ZL",
        "colab_type": "text"
      },
      "cell_type": "markdown",
      "source": [
        "![odor-receptors](https://github.com/rgerkin/neuro-data-analysis-course/blob/master/images/odor-receptors-2.jpg?raw=1)"
      ]
    },
    {
      "metadata": {
        "id": "PRwqulxkN6ZN",
        "colab_type": "text"
      },
      "cell_type": "markdown",
      "source": [
        "## Examples of molecules too small or too big to smell:"
      ]
    },
    {
      "metadata": {
        "id": "Pixn5BlSN6ZQ",
        "colab_type": "text"
      },
      "cell_type": "markdown",
      "source": [
        "### Small, low boiling point, can't dissolve into epithelial mucosa:\n",
        "![methane](http://www.sciencekids.co.nz/images/pictures/chemistry/chemicalstructureofmethane.jpg)\n",
        "### Large, high boiling point, can't dissolve into the air to get to your nose:\n",
        "![taxol](https://upload.wikimedia.org/wikipedia/commons/thumb/5/59/Taxol.svg/1920px-Taxol.svg.png)"
      ]
    },
    {
      "metadata": {
        "id": "L0rQNxoZN6ZV",
        "colab_type": "text"
      },
      "cell_type": "markdown",
      "source": [
        "## What kind of molecules can you smell?"
      ]
    },
    {
      "metadata": {
        "id": "HwcRDLIgN6ZW",
        "colab_type": "text"
      },
      "cell_type": "markdown",
      "source": [
        "![boelens](https://github.com/rgerkin/neuro-data-analysis-course/blob/master/images/boelens.png?raw=1)"
      ]
    },
    {
      "metadata": {
        "id": "XKvIqSt3N6ZY",
        "colab_type": "text"
      },
      "cell_type": "markdown",
      "source": [
        "## Enantiomers"
      ]
    },
    {
      "metadata": {
        "id": "pom_19dmN6ZZ",
        "colab_type": "text"
      },
      "cell_type": "markdown",
      "source": [
        "![alt text](https://github.com/rgerkin/neuro-data-analysis-course/blob/master/images/carvone.png?raw=1)\n",
        "\n",
        "### (+)-carvone:\n",
        "![alt text](https://github.com/rgerkin/neuro-data-analysis-course/blob/master/images/caraway-seeds.jpg?raw=1)\n",
        "\n",
        "### (-)-carvone:\n",
        "![alt text](https://github.com/rgerkin/neuro-data-analysis-course/blob/master/images/mint.jpg?raw=1)"
      ]
    },
    {
      "metadata": {
        "id": "qxmDlGanN6Za",
        "colab_type": "text"
      },
      "cell_type": "markdown",
      "source": [
        "### Q: What if you walked through a mirror?\n",
        "<img align=\"left\" src=\"https://github.com/rgerkin/neuro-data-analysis-course/blob/master/images/mickey.png?raw=1\">"
      ]
    }
  ]
}